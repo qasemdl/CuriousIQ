{
  "cells": [
    {
      "cell_type": "markdown",
      "metadata": {
        "id": "hQr4FNlDvuKy"
      },
      "source": [
        "# Import libraries"
      ]
    },
    {
      "cell_type": "code",
      "execution_count": 2,
      "metadata": {
        "id": "PCL-Pk_gvuKz"
      },
      "outputs": [],
      "source": [
        "import pandas as pd \n",
        "import numpy as np\n",
        "import matplotlib.pyplot as plt\n"
      ]
    },
    {
      "cell_type": "markdown",
      "metadata": {
        "id": "3A8ar9NrvuK0"
      },
      "source": [
        "# Import Dataset"
      ]
    },
    {
      "cell_type": "code",
      "execution_count": 4,
      "metadata": {
        "id": "uk1QH0j1vuK0"
      },
      "outputs": [],
      "source": [
        "listings=pd.read_csv('/content/ListingsSmall.csv')\n"
      ]
    },
    {
      "cell_type": "markdown",
      "metadata": {
        "id": "x2CPAC6pvuK0"
      },
      "source": [
        "## Find the data types for each column for listing dataset"
      ]
    },
    {
      "cell_type": "code",
      "execution_count": 8,
      "metadata": {
        "colab": {
          "base_uri": "https://localhost:8080/"
        },
        "id": "OkTmyLBcvuK1",
        "outputId": "a1434664-cb8c-460e-f62c-062c461c2ed2"
      },
      "outputs": [
        {
          "output_type": "execute_result",
          "data": {
            "text/plain": [
              "listing_id                       int64\n",
              "name                            object\n",
              "host_id                          int64\n",
              "host_since                      object\n",
              "host_location                   object\n",
              "host_response_time              object\n",
              "host_response_rate             float64\n",
              "host_acceptance_rate           float64\n",
              "host_is_superhost               object\n",
              "host_total_listings_count        int64\n",
              "host_has_profile_pic            object\n",
              "host_identity_verified          object\n",
              "neighbourhood                   object\n",
              "district                        object\n",
              "city                            object\n",
              "latitude                       float64\n",
              "longitude                      float64\n",
              "property_type                   object\n",
              "room_type                       object\n",
              "accommodates                     int64\n",
              "bedrooms                       float64\n",
              "amenities                       object\n",
              "price                            int64\n",
              "minimum_nights                   int64\n",
              "maximum_nights                   int64\n",
              "review_scores_rating           float64\n",
              "review_scores_accuracy         float64\n",
              "review_scores_cleanliness      float64\n",
              "review_scores_checkin          float64\n",
              "review_scores_communication    float64\n",
              "review_scores_location         float64\n",
              "review_scores_value            float64\n",
              "instant_bookable                object\n",
              "dtype: object"
            ]
          },
          "metadata": {},
          "execution_count": 8
        }
      ],
      "source": [
        "listings.dtypes"
      ]
    },
    {
      "cell_type": "markdown",
      "metadata": {
        "id": "xDwz4mdivuK1"
      },
      "source": [
        "## Find the descriptive statistics for listings dataset"
      ]
    },
    {
      "cell_type": "code",
      "execution_count": 9,
      "metadata": {
        "colab": {
          "base_uri": "https://localhost:8080/",
          "height": 364
        },
        "id": "oB7B51X5vuK1",
        "outputId": "79bdba47-ad3e-4115-cf1f-edecec5b2bf1"
      },
      "outputs": [
        {
          "output_type": "execute_result",
          "data": {
            "text/plain": [
              "         listing_id       host_id  host_response_rate  host_acceptance_rate  \\\n",
              "count    1000.00000  1.000000e+03          567.000000            675.000000   \n",
              "mean    79276.19700  1.020376e+06            0.918501              0.785467   \n",
              "std     49553.09741  1.229703e+07            0.211818              0.302841   \n",
              "min      2577.00000  2.330000e+03            0.000000              0.000000   \n",
              "25%     36476.75000  1.342885e+05            1.000000              0.670000   \n",
              "50%     68937.00000  3.010580e+05            1.000000              0.950000   \n",
              "75%    118177.25000  5.518368e+05            1.000000              1.000000   \n",
              "max    177495.00000  2.910074e+08            1.000000              1.000000   \n",
              "\n",
              "       host_total_listings_count     latitude    longitude  accommodates  \\\n",
              "count                1000.000000  1000.000000  1000.000000   1000.000000   \n",
              "mean                    3.681000    29.850047   -14.683304      3.321000   \n",
              "std                     8.042756    27.082053    55.193889      2.123315   \n",
              "min                     0.000000   -34.135720   -99.273350      1.000000   \n",
              "25%                     1.000000    40.675380   -73.948725      2.000000   \n",
              "50%                     2.000000    40.800800     2.349205      3.000000   \n",
              "75%                     3.000000    41.904008    12.496903      4.000000   \n",
              "max                    77.000000    48.897130   151.316920     16.000000   \n",
              "\n",
              "         bedrooms         price  minimum_nights  maximum_nights  \\\n",
              "count  945.000000   1000.000000     1000.000000     1000.000000   \n",
              "mean     1.420106    389.113000       14.211000      376.792000   \n",
              "std      0.828657   1138.120515       33.974826      378.754672   \n",
              "min      1.000000     14.000000        1.000000        1.000000   \n",
              "25%      1.000000     70.750000        2.000000       45.000000   \n",
              "50%      1.000000    110.000000        3.000000      302.500000   \n",
              "75%      2.000000    245.000000       30.000000      730.000000   \n",
              "max      7.000000  17900.000000      365.000000     1125.000000   \n",
              "\n",
              "       review_scores_rating  review_scores_accuracy  \\\n",
              "count            899.000000              895.000000   \n",
              "mean              93.374861                9.560894   \n",
              "std                6.564963                0.764444   \n",
              "min               33.000000                2.000000   \n",
              "25%               91.000000                9.000000   \n",
              "50%               95.000000               10.000000   \n",
              "75%               97.000000               10.000000   \n",
              "max              100.000000               10.000000   \n",
              "\n",
              "       review_scores_cleanliness  review_scores_checkin  \\\n",
              "count                 895.000000             894.000000   \n",
              "mean                    9.330726               9.771812   \n",
              "std                     0.865770               0.612898   \n",
              "min                     2.000000               4.000000   \n",
              "25%                     9.000000              10.000000   \n",
              "50%                     9.000000              10.000000   \n",
              "75%                    10.000000              10.000000   \n",
              "max                    10.000000              10.000000   \n",
              "\n",
              "       review_scores_communication  review_scores_location  \\\n",
              "count                   894.000000              894.000000   \n",
              "mean                      9.753915                9.572707   \n",
              "std                       0.631269                0.689689   \n",
              "min                       2.000000                4.000000   \n",
              "25%                      10.000000                9.000000   \n",
              "50%                      10.000000               10.000000   \n",
              "75%                      10.000000               10.000000   \n",
              "max                      10.000000               10.000000   \n",
              "\n",
              "       review_scores_value  \n",
              "count           894.000000  \n",
              "mean              9.306488  \n",
              "std               0.745289  \n",
              "min               4.000000  \n",
              "25%               9.000000  \n",
              "50%               9.000000  \n",
              "75%              10.000000  \n",
              "max              10.000000  "
            ],
            "text/html": [
              "\n",
              "  <div id=\"df-400d91b4-0de7-40bd-a02c-3e79459ba459\">\n",
              "    <div class=\"colab-df-container\">\n",
              "      <div>\n",
              "<style scoped>\n",
              "    .dataframe tbody tr th:only-of-type {\n",
              "        vertical-align: middle;\n",
              "    }\n",
              "\n",
              "    .dataframe tbody tr th {\n",
              "        vertical-align: top;\n",
              "    }\n",
              "\n",
              "    .dataframe thead th {\n",
              "        text-align: right;\n",
              "    }\n",
              "</style>\n",
              "<table border=\"1\" class=\"dataframe\">\n",
              "  <thead>\n",
              "    <tr style=\"text-align: right;\">\n",
              "      <th></th>\n",
              "      <th>listing_id</th>\n",
              "      <th>host_id</th>\n",
              "      <th>host_response_rate</th>\n",
              "      <th>host_acceptance_rate</th>\n",
              "      <th>host_total_listings_count</th>\n",
              "      <th>latitude</th>\n",
              "      <th>longitude</th>\n",
              "      <th>accommodates</th>\n",
              "      <th>bedrooms</th>\n",
              "      <th>price</th>\n",
              "      <th>minimum_nights</th>\n",
              "      <th>maximum_nights</th>\n",
              "      <th>review_scores_rating</th>\n",
              "      <th>review_scores_accuracy</th>\n",
              "      <th>review_scores_cleanliness</th>\n",
              "      <th>review_scores_checkin</th>\n",
              "      <th>review_scores_communication</th>\n",
              "      <th>review_scores_location</th>\n",
              "      <th>review_scores_value</th>\n",
              "    </tr>\n",
              "  </thead>\n",
              "  <tbody>\n",
              "    <tr>\n",
              "      <th>count</th>\n",
              "      <td>1000.00000</td>\n",
              "      <td>1.000000e+03</td>\n",
              "      <td>567.000000</td>\n",
              "      <td>675.000000</td>\n",
              "      <td>1000.000000</td>\n",
              "      <td>1000.000000</td>\n",
              "      <td>1000.000000</td>\n",
              "      <td>1000.000000</td>\n",
              "      <td>945.000000</td>\n",
              "      <td>1000.000000</td>\n",
              "      <td>1000.000000</td>\n",
              "      <td>1000.000000</td>\n",
              "      <td>899.000000</td>\n",
              "      <td>895.000000</td>\n",
              "      <td>895.000000</td>\n",
              "      <td>894.000000</td>\n",
              "      <td>894.000000</td>\n",
              "      <td>894.000000</td>\n",
              "      <td>894.000000</td>\n",
              "    </tr>\n",
              "    <tr>\n",
              "      <th>mean</th>\n",
              "      <td>79276.19700</td>\n",
              "      <td>1.020376e+06</td>\n",
              "      <td>0.918501</td>\n",
              "      <td>0.785467</td>\n",
              "      <td>3.681000</td>\n",
              "      <td>29.850047</td>\n",
              "      <td>-14.683304</td>\n",
              "      <td>3.321000</td>\n",
              "      <td>1.420106</td>\n",
              "      <td>389.113000</td>\n",
              "      <td>14.211000</td>\n",
              "      <td>376.792000</td>\n",
              "      <td>93.374861</td>\n",
              "      <td>9.560894</td>\n",
              "      <td>9.330726</td>\n",
              "      <td>9.771812</td>\n",
              "      <td>9.753915</td>\n",
              "      <td>9.572707</td>\n",
              "      <td>9.306488</td>\n",
              "    </tr>\n",
              "    <tr>\n",
              "      <th>std</th>\n",
              "      <td>49553.09741</td>\n",
              "      <td>1.229703e+07</td>\n",
              "      <td>0.211818</td>\n",
              "      <td>0.302841</td>\n",
              "      <td>8.042756</td>\n",
              "      <td>27.082053</td>\n",
              "      <td>55.193889</td>\n",
              "      <td>2.123315</td>\n",
              "      <td>0.828657</td>\n",
              "      <td>1138.120515</td>\n",
              "      <td>33.974826</td>\n",
              "      <td>378.754672</td>\n",
              "      <td>6.564963</td>\n",
              "      <td>0.764444</td>\n",
              "      <td>0.865770</td>\n",
              "      <td>0.612898</td>\n",
              "      <td>0.631269</td>\n",
              "      <td>0.689689</td>\n",
              "      <td>0.745289</td>\n",
              "    </tr>\n",
              "    <tr>\n",
              "      <th>min</th>\n",
              "      <td>2577.00000</td>\n",
              "      <td>2.330000e+03</td>\n",
              "      <td>0.000000</td>\n",
              "      <td>0.000000</td>\n",
              "      <td>0.000000</td>\n",
              "      <td>-34.135720</td>\n",
              "      <td>-99.273350</td>\n",
              "      <td>1.000000</td>\n",
              "      <td>1.000000</td>\n",
              "      <td>14.000000</td>\n",
              "      <td>1.000000</td>\n",
              "      <td>1.000000</td>\n",
              "      <td>33.000000</td>\n",
              "      <td>2.000000</td>\n",
              "      <td>2.000000</td>\n",
              "      <td>4.000000</td>\n",
              "      <td>2.000000</td>\n",
              "      <td>4.000000</td>\n",
              "      <td>4.000000</td>\n",
              "    </tr>\n",
              "    <tr>\n",
              "      <th>25%</th>\n",
              "      <td>36476.75000</td>\n",
              "      <td>1.342885e+05</td>\n",
              "      <td>1.000000</td>\n",
              "      <td>0.670000</td>\n",
              "      <td>1.000000</td>\n",
              "      <td>40.675380</td>\n",
              "      <td>-73.948725</td>\n",
              "      <td>2.000000</td>\n",
              "      <td>1.000000</td>\n",
              "      <td>70.750000</td>\n",
              "      <td>2.000000</td>\n",
              "      <td>45.000000</td>\n",
              "      <td>91.000000</td>\n",
              "      <td>9.000000</td>\n",
              "      <td>9.000000</td>\n",
              "      <td>10.000000</td>\n",
              "      <td>10.000000</td>\n",
              "      <td>9.000000</td>\n",
              "      <td>9.000000</td>\n",
              "    </tr>\n",
              "    <tr>\n",
              "      <th>50%</th>\n",
              "      <td>68937.00000</td>\n",
              "      <td>3.010580e+05</td>\n",
              "      <td>1.000000</td>\n",
              "      <td>0.950000</td>\n",
              "      <td>2.000000</td>\n",
              "      <td>40.800800</td>\n",
              "      <td>2.349205</td>\n",
              "      <td>3.000000</td>\n",
              "      <td>1.000000</td>\n",
              "      <td>110.000000</td>\n",
              "      <td>3.000000</td>\n",
              "      <td>302.500000</td>\n",
              "      <td>95.000000</td>\n",
              "      <td>10.000000</td>\n",
              "      <td>9.000000</td>\n",
              "      <td>10.000000</td>\n",
              "      <td>10.000000</td>\n",
              "      <td>10.000000</td>\n",
              "      <td>9.000000</td>\n",
              "    </tr>\n",
              "    <tr>\n",
              "      <th>75%</th>\n",
              "      <td>118177.25000</td>\n",
              "      <td>5.518368e+05</td>\n",
              "      <td>1.000000</td>\n",
              "      <td>1.000000</td>\n",
              "      <td>3.000000</td>\n",
              "      <td>41.904008</td>\n",
              "      <td>12.496903</td>\n",
              "      <td>4.000000</td>\n",
              "      <td>2.000000</td>\n",
              "      <td>245.000000</td>\n",
              "      <td>30.000000</td>\n",
              "      <td>730.000000</td>\n",
              "      <td>97.000000</td>\n",
              "      <td>10.000000</td>\n",
              "      <td>10.000000</td>\n",
              "      <td>10.000000</td>\n",
              "      <td>10.000000</td>\n",
              "      <td>10.000000</td>\n",
              "      <td>10.000000</td>\n",
              "    </tr>\n",
              "    <tr>\n",
              "      <th>max</th>\n",
              "      <td>177495.00000</td>\n",
              "      <td>2.910074e+08</td>\n",
              "      <td>1.000000</td>\n",
              "      <td>1.000000</td>\n",
              "      <td>77.000000</td>\n",
              "      <td>48.897130</td>\n",
              "      <td>151.316920</td>\n",
              "      <td>16.000000</td>\n",
              "      <td>7.000000</td>\n",
              "      <td>17900.000000</td>\n",
              "      <td>365.000000</td>\n",
              "      <td>1125.000000</td>\n",
              "      <td>100.000000</td>\n",
              "      <td>10.000000</td>\n",
              "      <td>10.000000</td>\n",
              "      <td>10.000000</td>\n",
              "      <td>10.000000</td>\n",
              "      <td>10.000000</td>\n",
              "      <td>10.000000</td>\n",
              "    </tr>\n",
              "  </tbody>\n",
              "</table>\n",
              "</div>\n",
              "      <button class=\"colab-df-convert\" onclick=\"convertToInteractive('df-400d91b4-0de7-40bd-a02c-3e79459ba459')\"\n",
              "              title=\"Convert this dataframe to an interactive table.\"\n",
              "              style=\"display:none;\">\n",
              "        \n",
              "  <svg xmlns=\"http://www.w3.org/2000/svg\" height=\"24px\"viewBox=\"0 0 24 24\"\n",
              "       width=\"24px\">\n",
              "    <path d=\"M0 0h24v24H0V0z\" fill=\"none\"/>\n",
              "    <path d=\"M18.56 5.44l.94 2.06.94-2.06 2.06-.94-2.06-.94-.94-2.06-.94 2.06-2.06.94zm-11 1L8.5 8.5l.94-2.06 2.06-.94-2.06-.94L8.5 2.5l-.94 2.06-2.06.94zm10 10l.94 2.06.94-2.06 2.06-.94-2.06-.94-.94-2.06-.94 2.06-2.06.94z\"/><path d=\"M17.41 7.96l-1.37-1.37c-.4-.4-.92-.59-1.43-.59-.52 0-1.04.2-1.43.59L10.3 9.45l-7.72 7.72c-.78.78-.78 2.05 0 2.83L4 21.41c.39.39.9.59 1.41.59.51 0 1.02-.2 1.41-.59l7.78-7.78 2.81-2.81c.8-.78.8-2.07 0-2.86zM5.41 20L4 18.59l7.72-7.72 1.47 1.35L5.41 20z\"/>\n",
              "  </svg>\n",
              "      </button>\n",
              "      \n",
              "  <style>\n",
              "    .colab-df-container {\n",
              "      display:flex;\n",
              "      flex-wrap:wrap;\n",
              "      gap: 12px;\n",
              "    }\n",
              "\n",
              "    .colab-df-convert {\n",
              "      background-color: #E8F0FE;\n",
              "      border: none;\n",
              "      border-radius: 50%;\n",
              "      cursor: pointer;\n",
              "      display: none;\n",
              "      fill: #1967D2;\n",
              "      height: 32px;\n",
              "      padding: 0 0 0 0;\n",
              "      width: 32px;\n",
              "    }\n",
              "\n",
              "    .colab-df-convert:hover {\n",
              "      background-color: #E2EBFA;\n",
              "      box-shadow: 0px 1px 2px rgba(60, 64, 67, 0.3), 0px 1px 3px 1px rgba(60, 64, 67, 0.15);\n",
              "      fill: #174EA6;\n",
              "    }\n",
              "\n",
              "    [theme=dark] .colab-df-convert {\n",
              "      background-color: #3B4455;\n",
              "      fill: #D2E3FC;\n",
              "    }\n",
              "\n",
              "    [theme=dark] .colab-df-convert:hover {\n",
              "      background-color: #434B5C;\n",
              "      box-shadow: 0px 1px 3px 1px rgba(0, 0, 0, 0.15);\n",
              "      filter: drop-shadow(0px 1px 2px rgba(0, 0, 0, 0.3));\n",
              "      fill: #FFFFFF;\n",
              "    }\n",
              "  </style>\n",
              "\n",
              "      <script>\n",
              "        const buttonEl =\n",
              "          document.querySelector('#df-400d91b4-0de7-40bd-a02c-3e79459ba459 button.colab-df-convert');\n",
              "        buttonEl.style.display =\n",
              "          google.colab.kernel.accessAllowed ? 'block' : 'none';\n",
              "\n",
              "        async function convertToInteractive(key) {\n",
              "          const element = document.querySelector('#df-400d91b4-0de7-40bd-a02c-3e79459ba459');\n",
              "          const dataTable =\n",
              "            await google.colab.kernel.invokeFunction('convertToInteractive',\n",
              "                                                     [key], {});\n",
              "          if (!dataTable) return;\n",
              "\n",
              "          const docLinkHtml = 'Like what you see? Visit the ' +\n",
              "            '<a target=\"_blank\" href=https://colab.research.google.com/notebooks/data_table.ipynb>data table notebook</a>'\n",
              "            + ' to learn more about interactive tables.';\n",
              "          element.innerHTML = '';\n",
              "          dataTable['output_type'] = 'display_data';\n",
              "          await google.colab.output.renderOutput(dataTable, element);\n",
              "          const docLink = document.createElement('div');\n",
              "          docLink.innerHTML = docLinkHtml;\n",
              "          element.appendChild(docLink);\n",
              "        }\n",
              "      </script>\n",
              "    </div>\n",
              "  </div>\n",
              "  "
            ]
          },
          "metadata": {},
          "execution_count": 9
        }
      ],
      "source": [
        "listings.describe()"
      ]
    },
    {
      "cell_type": "markdown",
      "metadata": {
        "id": "xeq2b3ZyvuK1"
      },
      "source": [
        "##  Find how many null values per column\n",
        "\n",
        "> Indented block\n",
        "\n"
      ]
    },
    {
      "cell_type": "code",
      "execution_count": 10,
      "metadata": {
        "colab": {
          "base_uri": "https://localhost:8080/"
        },
        "id": "E0OhisuUvuK1",
        "outputId": "401fec0d-a344-4c57-bc53-3f7690aa5b8d"
      },
      "outputs": [
        {
          "output_type": "execute_result",
          "data": {
            "text/plain": [
              "2655"
            ]
          },
          "metadata": {},
          "execution_count": 10
        }
      ],
      "source": [
        "#There are two methods. The first one is a command, the 2nd one is something that you have already did on previous question ;)\n",
        "listings.isna().sum().sum()"
      ]
    },
    {
      "cell_type": "markdown",
      "metadata": {
        "id": "myQ1yaQ-vuK1"
      },
      "source": [
        "Find how many listings per property type"
      ]
    },
    {
      "cell_type": "code",
      "execution_count": 11,
      "metadata": {
        "colab": {
          "base_uri": "https://localhost:8080/"
        },
        "id": "bx39IgTxvuK1",
        "outputId": "97a1f267-e029-413e-e420-835972c95e9b"
      },
      "outputs": [
        {
          "output_type": "execute_result",
          "data": {
            "text/plain": [
              "array(['Entire apartment', 'Private room in apartment', 'Entire loft',\n",
              "       'Entire guesthouse', 'Private room in bed and breakfast',\n",
              "       'Private room in condominium', 'Entire condominium',\n",
              "       'Private room in loft', 'Private room in house', 'Entire house',\n",
              "       'Entire townhouse', 'Room in serviced apartment', 'Entire villa',\n",
              "       'Room in hostel', 'Entire guest suite',\n",
              "       'Private room in townhouse', 'Private room',\n",
              "       'Private room in guesthouse', 'Private room in guest suite',\n",
              "       'Room in bed and breakfast', 'Shared room in apartment',\n",
              "       'Room in boutique hotel', 'Shared room in hostel',\n",
              "       'Private room in serviced apartment', 'Private room in villa',\n",
              "       'Entire bungalow', 'Earth house'], dtype=object)"
            ]
          },
          "metadata": {},
          "execution_count": 11
        }
      ],
      "source": [
        "#There are 2 methods. Choose whatever suits you best\n",
        "listings['property_type'].unique()"
      ]
    },
    {
      "cell_type": "markdown",
      "metadata": {
        "id": "eYGtLFuevuK1"
      },
      "source": [
        "## Replace f/t values of instant bookable column to No/Yes respectively (hint: inplace = True)"
      ]
    },
    {
      "cell_type": "code",
      "execution_count": 47,
      "metadata": {
        "colab": {
          "base_uri": "https://localhost:8080/"
        },
        "id": "WRW8hnG-vuK1",
        "outputId": "4c3a84df-f039-4c37-9f87-d51bfdc48d4d"
      },
      "outputs": [
        {
          "output_type": "execute_result",
          "data": {
            "text/plain": [
              "0       No\n",
              "1       No\n",
              "2       No\n",
              "3       No\n",
              "4       No\n",
              "      ... \n",
              "995    Yes\n",
              "996     No\n",
              "997     No\n",
              "998     No\n",
              "999     No\n",
              "Name: instant_bookable, Length: 1000, dtype: object"
            ]
          },
          "metadata": {},
          "execution_count": 47
        }
      ],
      "source": [
        "#inplace=True\n",
        "listings['instant_bookable'].replace({'f':'No','t':'Yes'})"
      ]
    },
    {
      "cell_type": "code",
      "source": [
        "listings['instant_bookable'].replace({'f':'No','t':'Yes'}, inplace=True)"
      ],
      "metadata": {
        "id": "VCqPEXXw-Vcb"
      },
      "execution_count": 48,
      "outputs": []
    },
    {
      "cell_type": "markdown",
      "metadata": {
        "id": "a19f3M52vuK2"
      },
      "source": [
        "\n",
        "\n",
        "```\n",
        "# This is formatted as code\n",
        "```\n",
        "\n",
        "## Sort dataset by price in descending order"
      ]
    },
    {
      "cell_type": "code",
      "execution_count": 50,
      "metadata": {
        "id": "s5bfXQx4vuK2"
      },
      "outputs": [],
      "source": [
        "#inplace=True\n",
        "listings.sort_values('price', ascending=False, inplace=True)\n"
      ]
    },
    {
      "cell_type": "markdown",
      "metadata": {
        "id": "kHRJ09ChvuK2"
      },
      "source": [
        "## Fill empty (nan) values of host_response_time to N/A"
      ]
    },
    {
      "cell_type": "code",
      "execution_count": 70,
      "metadata": {
        "colab": {
          "base_uri": "https://localhost:8080/"
        },
        "id": "AZcWEGnOvuK2",
        "outputId": "d6291217-66f3-49a8-94e8-3fa9ca2eabfd"
      },
      "outputs": [
        {
          "output_type": "execute_result",
          "data": {
            "text/plain": [
              "433"
            ]
          },
          "metadata": {},
          "execution_count": 70
        }
      ],
      "source": [
        "#inplace=True\n",
        "listings['host_response_time'].isnull().sum()"
      ]
    },
    {
      "cell_type": "code",
      "source": [
        "listings[' host_response_time'] = listings['host_response_time'].fillna('N/A').inplace=True \n"
      ],
      "metadata": {
        "id": "e1E46aePWgYr"
      },
      "execution_count": 83,
      "outputs": []
    },
    {
      "cell_type": "markdown",
      "metadata": {
        "id": "O4OzMMZ6vuK2"
      },
      "source": [
        "## Find how many listings per host_response_time in a pie chart"
      ]
    },
    {
      "cell_type": "code",
      "source": [
        "df = pd.DataFrame(listings)\n",
        "colors = ['#ff9999','#66b3ff','#99ff99','#ffcc99']\n",
        "explode = (0.1, 0, 0, 0)  # only \"explode\" the 1st slice (The biggest)\n",
        "data = listings['host_response_time'].value_counts().plot(kind=\"pie\", autopct='%1.1f%%', radius=1, shadow=True, explode=explode, colors=colors, legend=False, title='Host Responce Time',ylabel='', labeldistance=None)\n",
        "data.legend(bbox_to_anchor=(1, 1.02), loc='upper left')\n"
      ],
      "metadata": {
        "colab": {
          "base_uri": "https://localhost:8080/",
          "height": 282
        },
        "id": "MMpddWF2uR0I",
        "outputId": "b6b2568a-818c-41cd-90fd-c57a43211636"
      },
      "execution_count": 15,
      "outputs": [
        {
          "output_type": "execute_result",
          "data": {
            "text/plain": [
              "<matplotlib.legend.Legend at 0x7f6338a671f0>"
            ]
          },
          "metadata": {},
          "execution_count": 15
        },
        {
          "output_type": "display_data",
          "data": {
            "text/plain": [
              "<Figure size 432x288 with 1 Axes>"
            ],
            "image/png": "[encoded data removed]"
          },
          "metadata": {}
        }
      ]
    },
    {
      "cell_type": "markdown",
      "metadata": {
        "id": "JYeHIhPTvuK2"
      },
      "source": [
        "## Find the average price per city and visualize it in a sorted, bar chart\n",
        "\n",
        "*   List item\n",
        "*   List item\n",
        "\n"
      ]
    },
    {
      "cell_type": "code",
      "execution_count": 16,
      "metadata": {
        "colab": {
          "base_uri": "https://localhost:8080/"
        },
        "id": "zeus5XvfvuK2",
        "outputId": "9b7371cb-3ef2-4716-cce1-5dd3ba2b8c0f"
      },
      "outputs": [
        {
          "output_type": "execute_result",
          "data": {
            "text/plain": [
              "city\n",
              "Bangkok           1673.823529\n",
              "Cape Town         2101.611111\n",
              "Hong Kong          979.000000\n",
              "Istanbul           557.061224\n",
              "Mexico City       2392.818182\n",
              "New York           151.346626\n",
              "Paris              107.658768\n",
              "Rio de Janeiro     431.373494\n",
              "Rome                87.558974\n",
              "Sydney            1110.433333\n",
              "Name: price, dtype: float64"
            ]
          },
          "metadata": {},
          "execution_count": 16
        }
      ],
      "source": [
        "listings.groupby('city').mean()['price']\n"
      ]
    },
    {
      "cell_type": "code",
      "execution_count": 18,
      "metadata": {
        "colab": {
          "base_uri": "https://localhost:8080/",
          "height": 350
        },
        "id": "RiDh1zTJvuK2",
        "outputId": "2e036263-4983-4b69-94f7-170863ac9d3e"
      },
      "outputs": [
        {
          "output_type": "display_data",
          "data": {
            "text/plain": [
              "<Figure size 720x360 with 1 Axes>"
            ],
            "image/png": "[encoded data removed]"
          },
          "metadata": {
            "needs_background": "light"
          }
        }
      ],
      "source": [
        "city = listings.groupby('city').mean()['price'].index\n",
        "price = listings.groupby('city').mean()['price'].sort_values(ascending=False)\n",
        "\n",
        "fig = plt.figure(figsize = (10, 5))\n",
        " \n",
        "# creating the bar plot\n",
        "\n",
        "plt.bar(city, price, color ='blue', width = 0.4)\n",
        "\n",
        "plt.xlabel(\"City\")  #Add label to x axis \n",
        "plt.ylabel(\"Average Price\")  #Add label to y axis\n",
        "plt.title(\"Average property price per city\")  #Add title to plot\n",
        "\n",
        "\n",
        "plt.show()"
      ]
    },
    {
      "cell_type": "code",
      "execution_count": null,
      "metadata": {
        "id": "tI-7D66KvuK3"
      },
      "outputs": [],
      "source": []
    }
  ],
  "metadata": {
    "kernelspec": {
      "display_name": "Python 3",
      "language": "python",
      "name": "python3"
    },
    "language_info": {
      "codemirror_mode": {
        "name": "ipython",
        "version": 3
      },
      "file_extension": ".py",
      "mimetype": "text/x-python",
      "name": "python",
      "nbconvert_exporter": "python",
      "pygments_lexer": "ipython3",
      "version": "3.8.3"
    },
    "colab": {
      "provenance": []
    }
  },
  "nbformat": 4,
  "nbformat_minor": 0
}